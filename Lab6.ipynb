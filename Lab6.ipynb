{
  "nbformat": 4,
  "nbformat_minor": 0,
  "metadata": {
    "colab": {
      "provenance": [],
      "authorship_tag": "ABX9TyOLWPSbHn6a94umKJYn0h2x",
      "include_colab_link": true
    },
    "kernelspec": {
      "name": "python3",
      "display_name": "Python 3"
    },
    "language_info": {
      "name": "python"
    }
  },
  "cells": [
    {
      "cell_type": "markdown",
      "metadata": {
        "id": "view-in-github",
        "colab_type": "text"
      },
      "source": [
        "<a href=\"https://colab.research.google.com/github/VARSHITHA-DARMINI/1927_B30_PDS/blob/main/Lab6.ipynb\" target=\"_parent\"><img src=\"https://colab.research.google.com/assets/colab-badge.svg\" alt=\"Open In Colab\"/></a>"
      ]
    },
    {
      "cell_type": "markdown",
      "source": [
        "Question 1\n"
      ],
      "metadata": {
        "id": "xwa7wW8OFB8C"
      }
    },
    {
      "cell_type": "code",
      "execution_count": 1,
      "metadata": {
        "colab": {
          "base_uri": "https://localhost:8080/"
        },
        "id": "Hs9M8tUpFApb",
        "outputId": "4fbebcfe-43ad-4888-fd9d-5294b8a4e836"
      },
      "outputs": [
        {
          "output_type": "stream",
          "name": "stdout",
          "text": [
            "Dataset Before Cleaning:\n",
            "   patient_id patient_name  age\n",
            "0           1         John   25\n",
            "1           2         Emma  130\n",
            "2           3         Liam   45\n",
            "3           4       Olivia   -5\n",
            "4           5          Ava   60\n",
            "5           6         Noah   85\n",
            "6           7       Sophia  200\n",
            "\n",
            "Dataset After Removing Outliers:\n",
            "   patient_id patient_name  age\n",
            "0           1         John   25\n",
            "2           3         Liam   45\n",
            "4           5          Ava   60\n",
            "5           6         Noah   85\n",
            "\n",
            "Discussion:\n",
            "Outlier removal is important because unrealistic values can skew analysis and lead to incorrect conclusions. Removing ages <0 or >120 ensures data quality.\n"
          ]
        }
      ],
      "source": [
        "import pandas as pd\n",
        "\n",
        "data = {\n",
        "    'patient_id': [1, 2, 3, 4, 5, 6, 7],\n",
        "    'patient_name': ['John', 'Emma', 'Liam', 'Olivia', 'Ava', 'Noah', 'Sophia'],\n",
        "    'age': [25, 130, 45, -5, 60, 85, 200]\n",
        "}\n",
        "hospital_df = pd.DataFrame(data)\n",
        "\n",
        "print(\"Dataset Before Cleaning:\")\n",
        "print(hospital_df)\n",
        "\n",
        "cleaned_df = hospital_df[(hospital_df['age'] >= 0) & (hospital_df['age'] <= 120)]\n",
        "\n",
        "print(\"\\nDataset After Removing Outliers:\")\n",
        "print(cleaned_df)\n",
        "\n",
        "print(\"\\nDiscussion:\")\n",
        "print(\"Outlier removal is important because unrealistic values can skew analysis and lead to incorrect conclusions. Removing ages <0 or >120 ensures data quality.\")\n"
      ]
    },
    {
      "cell_type": "markdown",
      "source": [
        "Question 2"
      ],
      "metadata": {
        "id": "TZMZbXqJFHKo"
      }
    },
    {
      "cell_type": "code",
      "source": [
        "import pandas as pd\n",
        "from sklearn.preprocessing import MinMaxScaler, StandardScaler\n",
        "\n",
        "data = {\n",
        "    'customer_id': [1, 2, 3, 4, 5],\n",
        "    'customer_income': [2500, 4800, 15000, 3200, 7200]\n",
        "}\n",
        "banking_df = pd.DataFrame(data)\n",
        "\n",
        "print(\"Original Dataset:\")\n",
        "print(banking_df)\n",
        "\n",
        "minmax_scaler = MinMaxScaler()\n",
        "banking_df['income_minmax'] = minmax_scaler.fit_transform(banking_df[['customer_income']])\n",
        "\n",
        "standard_scaler = StandardScaler()\n",
        "banking_df['income_standardized'] = standard_scaler.fit_transform(banking_df[['customer_income']])\n",
        "\n",
        "print(\"\\nScaled Dataset:\")\n",
        "print(banking_df)\n",
        "\n",
        "print(\"\\nDiscussion:\")\n",
        "print(\"Min-Max normalization scales features between 0 and 1, useful when features have different ranges. Standardization centers data around mean=0 and std=1, useful for algorithms assuming normal distribution.\")\n"
      ],
      "metadata": {
        "colab": {
          "base_uri": "https://localhost:8080/"
        },
        "id": "wrtF0u32FFDF",
        "outputId": "0b8a5160-7124-4901-89be-46769503ca59"
      },
      "execution_count": 2,
      "outputs": [
        {
          "output_type": "stream",
          "name": "stdout",
          "text": [
            "Original Dataset:\n",
            "   customer_id  customer_income\n",
            "0            1             2500\n",
            "1            2             4800\n",
            "2            3            15000\n",
            "3            4             3200\n",
            "4            5             7200\n",
            "\n",
            "Scaled Dataset:\n",
            "   customer_id  customer_income  income_minmax  income_standardized\n",
            "0            1             2500          0.000            -0.892235\n",
            "1            2             4800          0.184            -0.384279\n",
            "2            3            15000          1.000             1.868392\n",
            "3            4             3200          0.056            -0.737639\n",
            "4            5             7200          0.376             0.145761\n",
            "\n",
            "Discussion:\n",
            "Min-Max normalization scales features between 0 and 1, useful when features have different ranges. Standardization centers data around mean=0 and std=1, useful for algorithms assuming normal distribution.\n"
          ]
        }
      ]
    }
  ]
}
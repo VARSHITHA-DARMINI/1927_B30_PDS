{
  "nbformat": 4,
  "nbformat_minor": 0,
  "metadata": {
    "colab": {
      "provenance": [],
      "authorship_tag": "ABX9TyP/tcwbPZJbfwI2x01zpN34",
      "include_colab_link": true
    },
    "kernelspec": {
      "name": "python3",
      "display_name": "Python 3"
    },
    "language_info": {
      "name": "python"
    }
  },
  "cells": [
    {
      "cell_type": "markdown",
      "metadata": {
        "id": "view-in-github",
        "colab_type": "text"
      },
      "source": [
        "<a href=\"https://colab.research.google.com/github/VARSHITHA-DARMINI/1927_B30_PDS/blob/main/Lab_4.ipynb\" target=\"_parent\"><img src=\"https://colab.research.google.com/assets/colab-badge.svg\" alt=\"Open In Colab\"/></a>"
      ]
    },
    {
      "cell_type": "markdown",
      "source": [
        "Question 1"
      ],
      "metadata": {
        "id": "KAxPjiwPQLU-"
      }
    },
    {
      "cell_type": "code",
      "source": [
        "import pandas as pd\n",
        "\n",
        "df = pd.read_csv(\"course_feedback.csv\")\n",
        "\n",
        "df = df.dropna(subset=[\"Rating\"])\n",
        "\n",
        "filtered_df = df[(df[\"Course_Name\"] == \"Python for Data Science\") & (df[\"Rating\"] >= 4)]\n",
        "\n",
        "if not filtered_df.empty:\n",
        "    print(\"Meaningful Feedbacks for 'Python for Data Science' (Rating >= 4):\\n\")\n",
        "    for _, row in filtered_df.iterrows():\n",
        "        print(f\"User: {row['User_ID']} | Rating: {row['Rating']} | Feedback: {row['Feedback']}\\n\")\n",
        "else:\n",
        "    print(\"No feedback found matching the criteria.\")\n"
      ],
      "metadata": {
        "colab": {
          "base_uri": "https://localhost:8080/"
        },
        "id": "WuiJULvHPwZQ",
        "outputId": "e8b2beae-e294-4f89-b7dd-e27ba3526817"
      },
      "execution_count": 5,
      "outputs": [
        {
          "output_type": "stream",
          "name": "stdout",
          "text": [
            "Meaningful Feedbacks for 'Python for Data Science' (Rating >= 4):\n",
            "\n",
            "User: U101 | Rating: 5.0 | Feedback: Great course, very helpful!\n",
            "\n",
            "User: U102 | Rating: 4.0 | Feedback: Well structured and informative.\n",
            "\n"
          ]
        }
      ]
    },
    {
      "cell_type": "markdown",
      "source": [
        "Question 2"
      ],
      "metadata": {
        "id": "W5jMt5DQQQDK"
      }
    },
    {
      "cell_type": "code",
      "source": [
        "import pandas as pd\n",
        "\n",
        "\n",
        "df = pd.read_csv(\"air_quality.csv\")\n",
        "\n",
        "\n",
        "df = df.fillna(method=\"ffill\")\n",
        "\n",
        "\n",
        "polluted_days = df[(df[\"PM2.5\"] > 150) & (df[\"NO2\"] > 80)]\n",
        "\n",
        "\n",
        "if not polluted_days.empty:\n",
        "    print(\"Polluted Day Records (PM2.5 > 150 and NO2 > 80):\\n\")\n",
        "    print(polluted_days[[\"Location\", \"PM2.5\", \"NO2\", \"Date\"]])\n",
        "else:\n",
        "    print(\"No polluted day records found.\")\n",
        "\n",
        "polluted_days.to_csv(\"polluted_days.csv\", index=False)\n"
      ],
      "metadata": {
        "colab": {
          "base_uri": "https://localhost:8080/"
        },
        "id": "Zlepeo4xPyCV",
        "outputId": "303d7f4e-9147-46a8-b122-09f4a324beaa"
      },
      "execution_count": 4,
      "outputs": [
        {
          "output_type": "stream",
          "name": "stdout",
          "text": [
            "Polluted Day Records (PM2.5 > 150 and NO2 > 80):\n",
            "\n",
            "  Location  PM2.5   NO2        Date\n",
            "0    Delhi  180.0  90.0  2025-08-01\n",
            "5    Delhi  160.0  85.0  2025-08-06\n",
            "6   Mumbai  160.0  95.0  2025-08-07\n"
          ]
        },
        {
          "output_type": "stream",
          "name": "stderr",
          "text": [
            "/tmp/ipython-input-3651777495.py:7: FutureWarning: DataFrame.fillna with 'method' is deprecated and will raise in a future version. Use obj.ffill() or obj.bfill() instead.\n",
            "  df = df.fillna(method=\"ffill\")\n"
          ]
        }
      ]
    }
  ]
}
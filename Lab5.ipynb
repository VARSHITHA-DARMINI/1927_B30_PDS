{
  "nbformat": 4,
  "nbformat_minor": 0,
  "metadata": {
    "colab": {
      "provenance": [],
      "authorship_tag": "ABX9TyNfN8gud+ZHSPvcsm8lVlyB",
      "include_colab_link": true
    },
    "kernelspec": {
      "name": "python3",
      "display_name": "Python 3"
    },
    "language_info": {
      "name": "python"
    }
  },
  "cells": [
    {
      "cell_type": "markdown",
      "metadata": {
        "id": "view-in-github",
        "colab_type": "text"
      },
      "source": [
        "<a href=\"https://colab.research.google.com/github/VARSHITHA-DARMINI/1927_B30_PDS/blob/main/Lab5.ipynb\" target=\"_parent\"><img src=\"https://colab.research.google.com/assets/colab-badge.svg\" alt=\"Open In Colab\"/></a>"
      ]
    },
    {
      "cell_type": "markdown",
      "source": [
        "Question 1"
      ],
      "metadata": {
        "id": "C4-Wka1oDUuO"
      }
    },
    {
      "cell_type": "code",
      "source": [
        "import pandas as pd\n",
        "\n",
        "customers_data = {\n",
        "    'customer_id': [1, 2, 3, 4, 5],\n",
        "    'customer_name': ['Alice', 'Bob', 'Charlie', 'David', 'Eva'],\n",
        "    'city': ['New York', 'Los Angeles', 'Chicago', 'New York', 'Chicago']\n",
        "}\n",
        "customers_df = pd.DataFrame(customers_data)\n",
        "\n",
        "transactions_data = {\n",
        "    'transaction_id': [101, 102, 103, 104, 105, 106, 107],\n",
        "    'customer_id': [1, 2, 1, 3, 4, 5, 3],\n",
        "    'amount': [250, 150, 300, 200, 450, 500, 100]\n",
        "}\n",
        "transactions_df = pd.DataFrame(transactions_data)\n",
        "\n",
        "merged_df = pd.merge(transactions_df, customers_df, on='customer_id', how='inner')\n",
        "print(merged_df)\n",
        "\n",
        "customer_spend = merged_df.groupby(['customer_id', 'customer_name', 'city'])['amount'].sum().reset_index()\n",
        "customer_spend.rename(columns={'amount': 'total_spend'}, inplace=True)\n",
        "print(customer_spend)\n",
        "\n",
        "city_spend = customer_spend.groupby('city')['total_spend'].sum().reset_index()\n",
        "print(city_spend)\n",
        "\n",
        "top_spender = customer_spend.loc[customer_spend['total_spend'].idxmax()]\n",
        "print(f\"Top Spender: {top_spender['customer_name']} | City: {top_spender['city']} | Total Spend: ${top_spender['total_spend']}\")\n"
      ],
      "metadata": {
        "colab": {
          "base_uri": "https://localhost:8080/"
        },
        "id": "3p_mPD6jDUPc",
        "outputId": "af47b7db-1db8-4dd1-ee39-77176ae4e1bb"
      },
      "execution_count": 2,
      "outputs": [
        {
          "output_type": "stream",
          "name": "stdout",
          "text": [
            "   transaction_id  customer_id  amount customer_name         city\n",
            "0             101            1     250         Alice     New York\n",
            "1             102            2     150           Bob  Los Angeles\n",
            "2             103            1     300         Alice     New York\n",
            "3             104            3     200       Charlie      Chicago\n",
            "4             105            4     450         David     New York\n",
            "5             106            5     500           Eva      Chicago\n",
            "6             107            3     100       Charlie      Chicago\n",
            "   customer_id customer_name         city  total_spend\n",
            "0            1         Alice     New York          550\n",
            "1            2           Bob  Los Angeles          150\n",
            "2            3       Charlie      Chicago          300\n",
            "3            4         David     New York          450\n",
            "4            5           Eva      Chicago          500\n",
            "          city  total_spend\n",
            "0      Chicago          800\n",
            "1  Los Angeles          150\n",
            "2     New York         1000\n",
            "Top Spender: Alice | City: New York | Total Spend: $550\n"
          ]
        }
      ]
    },
    {
      "cell_type": "markdown",
      "source": [
        "Question 2"
      ],
      "metadata": {
        "id": "lQHyqEBHDZH9"
      }
    },
    {
      "cell_type": "code",
      "source": [
        "import pandas as pd\n",
        "\n",
        "patients_data = {\n",
        "    'patient_id': [1, 2, 3, 4],\n",
        "    'patient_name': ['John', 'Emma', 'Liam', 'Olivia'],\n",
        "    'age': [30, 25, 45, 35]\n",
        "}\n",
        "patients_df = pd.DataFrame(patients_data)\n",
        "\n",
        "appointments_data = {\n",
        "    'appointment_id': [201, 202, 203, 204, 205, 206],\n",
        "    'patient_id': [1, 2, 1, 3, 3, 4],\n",
        "    'doctor_name': ['Dr. Smith', 'Dr. Adams', 'Dr. Smith', 'Dr. Lee', 'Dr. Lee', 'Dr. Adams'],\n",
        "    'appointment_date': ['2025-09-01', '2025-09-01', '2025-09-05', '2025-09-02', '2025-09-10', '2025-09-03']\n",
        "}\n",
        "appointments_df = pd.DataFrame(appointments_data)\n",
        "\n",
        "merged_df = pd.merge(appointments_df, patients_df, on='patient_id', how='inner')\n",
        "print(merged_df)\n",
        "\n",
        "appointments_per_patient = merged_df.groupby(['patient_id', 'patient_name']).size().reset_index(name='appointment_count')\n",
        "print(appointments_per_patient)\n",
        "\n",
        "doctor_workload = merged_df.groupby('doctor_name').size().reset_index(name='appointments_count')\n",
        "print(doctor_workload)\n",
        "\n",
        "most_visits_patient = appointments_per_patient.loc[appointments_per_patient['appointment_count'].idxmax()]\n",
        "print(f\"Patient with Maximum Visits: {most_visits_patient['patient_name']} | Visits: {most_visits_patient['appointment_count']}\")\n"
      ],
      "metadata": {
        "colab": {
          "base_uri": "https://localhost:8080/"
        },
        "id": "SiHmI1G-DaxP",
        "outputId": "6e9798fa-34ad-43d2-8fb4-5a267c490d44"
      },
      "execution_count": 3,
      "outputs": [
        {
          "output_type": "stream",
          "name": "stdout",
          "text": [
            "   appointment_id  patient_id doctor_name appointment_date patient_name  age\n",
            "0             201           1   Dr. Smith       2025-09-01         John   30\n",
            "1             202           2   Dr. Adams       2025-09-01         Emma   25\n",
            "2             203           1   Dr. Smith       2025-09-05         John   30\n",
            "3             204           3     Dr. Lee       2025-09-02         Liam   45\n",
            "4             205           3     Dr. Lee       2025-09-10         Liam   45\n",
            "5             206           4   Dr. Adams       2025-09-03       Olivia   35\n",
            "   patient_id patient_name  appointment_count\n",
            "0           1         John                  2\n",
            "1           2         Emma                  1\n",
            "2           3         Liam                  2\n",
            "3           4       Olivia                  1\n",
            "  doctor_name  appointments_count\n",
            "0   Dr. Adams                   2\n",
            "1     Dr. Lee                   2\n",
            "2   Dr. Smith                   2\n",
            "Patient with Maximum Visits: John | Visits: 2\n"
          ]
        }
      ]
    }
  ]
}
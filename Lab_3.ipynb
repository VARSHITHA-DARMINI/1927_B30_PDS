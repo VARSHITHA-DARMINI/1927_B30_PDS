{
  "nbformat": 4,
  "nbformat_minor": 0,
  "metadata": {
    "colab": {
      "provenance": [],
      "authorship_tag": "ABX9TyPf3KSWsfPtTiP7aRRYnJ3A",
      "include_colab_link": true
    },
    "kernelspec": {
      "name": "python3",
      "display_name": "Python 3"
    },
    "language_info": {
      "name": "python"
    }
  },
  "cells": [
    {
      "cell_type": "markdown",
      "metadata": {
        "id": "view-in-github",
        "colab_type": "text"
      },
      "source": [
        "<a href=\"https://colab.research.google.com/github/VARSHITHA-DARMINI/1927_B30_PDS/blob/main/Lab_3.ipynb\" target=\"_parent\"><img src=\"https://colab.research.google.com/assets/colab-badge.svg\" alt=\"Open In Colab\"/></a>"
      ]
    },
    {
      "cell_type": "code",
      "execution_count": 2,
      "metadata": {
        "colab": {
          "base_uri": "https://localhost:8080/"
        },
        "id": "ERKsyz6bB3oY",
        "outputId": "1f32e6ff-367c-4e5b-ad16-40f95512e507"
      },
      "outputs": [
        {
          "output_type": "stream",
          "name": "stdout",
          "text": [
            "[[70 25 40 60]\n",
            " [24 42 86 83]\n",
            " [97 47 48 50]\n",
            " [51 43 36 14]]\n",
            "Column-wise means: [60.5  39.25 52.5  51.75]\n",
            "Row-wise means: [48.75 58.75 60.5  36.  ]\n",
            "Standard Deviation: 22.497222050733285\n",
            "Variance: 506.125\n",
            "Minimum value: 14\n",
            "Maximum value: 97\n",
            "Index of minimum value: 15\n",
            "Index of maximum value: 8\n"
          ]
        }
      ],
      "source": [
        "import numpy as np\n",
        "\n",
        "test_scores = np.random.randint(0, 101, size=(4, 4))\n",
        "print(test_scores)\n",
        "\n",
        "column_means = np.mean(test_scores, axis=0)\n",
        "row_means = np.mean(test_scores, axis=1)\n",
        "\n",
        "print(\"Column-wise means:\", column_means)\n",
        "print(\"Row-wise means:\", row_means)\n",
        "\n",
        "std_dev = np.std(test_scores)\n",
        "variance = np.var(test_scores)\n",
        "\n",
        "print(\"Standard Deviation:\", std_dev)\n",
        "print(\"Variance:\", variance)\n",
        "\n",
        "min_value = np.min(test_scores)\n",
        "max_value = np.max(test_scores)\n",
        "min_index = np.argmin(test_scores)\n",
        "max_index = np.argmax(test_scores)\n",
        "\n",
        "print(\"Minimum value:\", min_value)\n",
        "print(\"Maximum value:\", max_value)\n",
        "print(\"Index of minimum value:\", min_index)\n",
        "print(\"Index of maximum value:\", max_index)"
      ]
    },
    {
      "cell_type": "code",
      "source": [
        "import numpy as np\n",
        "\n",
        "rgb_image = np.random.randint(0, 256, size=(3, 3, 3))\n",
        "print(rgb_image)\n",
        "red_channel = rgb_image[:, :, 0]\n",
        "green_channel = rgb_image[:, :, 1]\n",
        "blue_channel = rgb_image[:, :, 2]\n",
        "\n",
        "print(\"Red Channel:\\n\", red_channel)\n",
        "print(\"Green Channel:\\n\", green_channel)\n",
        "print(\"Blue Channel:\\n\", blue_channel)\n",
        "red_mean = np.mean(red_channel)\n",
        "green_mean = np.mean(green_channel)\n",
        "blue_mean = np.mean(blue_channel)\n",
        "\n",
        "print(f\"Average pixel intensity for Red channel: {red_mean}\")\n",
        "print(f\"Average pixel intensity for Green channel: {green_mean}\")\n",
        "print(f\"Average pixel intensity for Blue channel: {blue_mean}\")\n",
        "brightness_increase = 50\n",
        "brightened_image = np.clip(rgb_image + brightness_increase, 0, 255)\n",
        "print(\"Brightened Image (clipped at 255):\\n\", brightened_image)"
      ],
      "metadata": {
        "colab": {
          "base_uri": "https://localhost:8080/"
        },
        "id": "X4R840z9CJE3",
        "outputId": "35dfc1fa-a261-49de-a8d5-08cc4c1d2210"
      },
      "execution_count": 5,
      "outputs": [
        {
          "output_type": "stream",
          "name": "stdout",
          "text": [
            "[[[173  56 107]\n",
            "  [ 14 138 228]\n",
            "  [ 66  71 112]]\n",
            "\n",
            " [[ 92  43 113]\n",
            "  [ 18  94 253]\n",
            "  [228  22  83]]\n",
            "\n",
            " [[148  40  84]\n",
            "  [244  10 181]\n",
            "  [ 93 111  70]]]\n",
            "Red Channel:\n",
            " [[173  14  66]\n",
            " [ 92  18 228]\n",
            " [148 244  93]]\n",
            "Green Channel:\n",
            " [[ 56 138  71]\n",
            " [ 43  94  22]\n",
            " [ 40  10 111]]\n",
            "Blue Channel:\n",
            " [[107 228 112]\n",
            " [113 253  83]\n",
            " [ 84 181  70]]\n",
            "Average pixel intensity for Red channel: 119.55555555555556\n",
            "Average pixel intensity for Green channel: 65.0\n",
            "Average pixel intensity for Blue channel: 136.77777777777777\n",
            "Brightened Image (clipped at 255):\n",
            " [[[223 106 157]\n",
            "  [ 64 188 255]\n",
            "  [116 121 162]]\n",
            "\n",
            " [[142  93 163]\n",
            "  [ 68 144 255]\n",
            "  [255  72 133]]\n",
            "\n",
            " [[198  90 134]\n",
            "  [255  60 231]\n",
            "  [143 161 120]]]\n"
          ]
        }
      ]
    },
    {
      "cell_type": "markdown",
      "source": [],
      "metadata": {
        "id": "PyzQQZriCEvp"
      }
    }
  ]
}
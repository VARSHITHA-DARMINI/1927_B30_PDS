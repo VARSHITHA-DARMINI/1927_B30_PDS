{
  "nbformat": 4,
  "nbformat_minor": 0,
  "metadata": {
    "colab": {
      "provenance": [],
      "authorship_tag": "ABX9TyOFysuQL/1VneBaFwk0ia0X",
      "include_colab_link": true
    },
    "kernelspec": {
      "name": "python3",
      "display_name": "Python 3"
    },
    "language_info": {
      "name": "python"
    }
  },
  "cells": [
    {
      "cell_type": "markdown",
      "metadata": {
        "id": "view-in-github",
        "colab_type": "text"
      },
      "source": [
        "<a href=\"https://colab.research.google.com/github/VARSHITHA-DARMINI/1927_B30_PDS/blob/main/Assignment_2.ipynb\" target=\"_parent\"><img src=\"https://colab.research.google.com/assets/colab-badge.svg\" alt=\"Open In Colab\"/></a>"
      ]
    },
    {
      "cell_type": "markdown",
      "source": [
        "Question 1"
      ],
      "metadata": {
        "id": "4YrsEN4-Ce0Z"
      }
    },
    {
      "cell_type": "code",
      "source": [
        "import numpy as np\n",
        "import matplotlib.pyplot as plt\n",
        "\n",
        "temps_celsius = np.array([4.2, 5.5, 9.1, 13.3, 17.8, 21.4, 24.1, 23.5, 19.6, 14.2, 8.7, 5.0])\n",
        "months = np.array([\"Jan\", \"Feb\", \"Mar\", \"Apr\", \"May\", \"Jun\", \"Jul\", \"Aug\", \"Sep\", \"Oct\", \"Nov\", \"Dec\"])\n",
        "\n",
        "average_temp = np.mean(temps_celsius)\n",
        "hottest_temp = np.max(temps_celsius)\n",
        "coldest_temp = np.min(temps_celsius)\n",
        "\n",
        "hottest_month = np.argmax(temps_celsius)\n",
        "coldest_month = np.argmin(temps_celsius)\n",
        "\n",
        "normalized_temps = (temps_celsius - coldest_temp) / (hottest_temp - coldest_temp)\n",
        "\n",
        "above_average_months = np.where(temps_celsius > average_temp)[0]\n",
        "\n",
        "temps_fahrenheit = temps_celsius * 9/5 + 32\n",
        "\n",
        "print(\"Average Temperature (°C):\", average_temp)\n",
        "print(\"Hottest Month:\", months[hottest_month], \"-\", hottest_temp, \"°C\")\n",
        "print(\"Coldest Month:\", months[coldest_month], \"-\", coldest_temp, \"°C\")\n",
        "print(\"Months above average temperature:\", months[above_average_months])\n",
        "print(\"Normalized Temperatures:\", normalized_temps)\n",
        "print(\"Temperatures in Fahrenheit:\", temps_fahrenheit)"
      ],
      "metadata": {
        "colab": {
          "base_uri": "https://localhost:8080/"
        },
        "id": "gvXIv_tEDQSH",
        "outputId": "0484438f-42c4-46f6-cec6-80aea967d6bf"
      },
      "execution_count": null,
      "outputs": [
        {
          "output_type": "stream",
          "name": "stdout",
          "text": [
            "Average Temperature (°C): 13.866666666666665\n",
            "Hottest Month: Jul - 24.1 °C\n",
            "Coldest Month: Jan - 4.2 °C\n",
            "Months above average temperature: ['May' 'Jun' 'Jul' 'Aug' 'Sep' 'Oct']\n",
            "Normalized Temperatures: [0.         0.06532663 0.24623116 0.45728643 0.68341709 0.86432161\n",
            " 1.         0.96984925 0.77386935 0.50251256 0.22613065 0.04020101]\n",
            "Temperatures in Fahrenheit: [39.56 41.9  48.38 55.94 64.04 70.52 75.38 74.3  67.28 57.56 47.66 41.  ]\n"
          ]
        }
      ]
    },
    {
      "cell_type": "markdown",
      "source": [
        "Question 2"
      ],
      "metadata": {
        "id": "HBvIq2J6Don9"
      }
    },
    {
      "cell_type": "code",
      "source": [
        "import pandas as pd\n",
        "\n",
        "Data={\n",
        "    'OrderId' : [101,102,103,104,105],\n",
        "    'Product' : ['Grinder','Gyser','Purifier','Air Conditioner','Washing Machine'],\n",
        "    'Quantity' : [5,4,5,3,8],\n",
        "    'Price' : [15000,35000,45000,60000,55000]\n",
        "}\n",
        "\n",
        "df = pd.DataFrame(Data)\n",
        "print(df)\n",
        "\n",
        "df['TotalSale'] = df['Quantity'] * df['Price']\n",
        "print(df)\n",
        "\n",
        "print('Orders where total sale is greater than 1000:\\n',df['TotalSale'][df['TotalSale']>1000])\n",
        "\n",
        "most_sold_product = df.groupby('Product')['Quantity'].sum().idxmax()\n",
        "print(f'\\nThe most sold product is: {most_sold_product}')\n",
        "\n",
        "def calculate_discount(sale):\n",
        "    if sale > 1000:\n",
        "        return 0.10 * sale\n",
        "    elif sale >= 500:\n",
        "        return 0.05 * sale\n",
        "    else:\n",
        "        return 0\n",
        "\n",
        "df['Discount'] = df['TotalSale'].apply(calculate_discount)\n",
        "print(df)"
      ],
      "metadata": {
        "id": "bmlFoP0mDp9C",
        "outputId": "8ebf588c-5f3e-40be-d96f-acbee59104b7",
        "colab": {
          "base_uri": "https://localhost:8080/"
        }
      },
      "execution_count": null,
      "outputs": [
        {
          "output_type": "stream",
          "name": "stdout",
          "text": [
            "   OrderId          Product  Quantity  Price\n",
            "0      101          Grinder         5  15000\n",
            "1      102            Gyser         4  35000\n",
            "2      103         Purifier         5  45000\n",
            "3      104  Air Conditioner         3  60000\n",
            "4      105  Washing Machine         8  55000\n",
            "   OrderId          Product  Quantity  Price  TotalSale\n",
            "0      101          Grinder         5  15000      75000\n",
            "1      102            Gyser         4  35000     140000\n",
            "2      103         Purifier         5  45000     225000\n",
            "3      104  Air Conditioner         3  60000     180000\n",
            "4      105  Washing Machine         8  55000     440000\n",
            "Orders where total sale is greater than 1000:\n",
            " 0     75000\n",
            "1    140000\n",
            "2    225000\n",
            "3    180000\n",
            "4    440000\n",
            "Name: TotalSale, dtype: int64\n",
            "\n",
            "The most sold product is: Washing Machine\n",
            "   OrderId          Product  Quantity  Price  TotalSale  Discount\n",
            "0      101          Grinder         5  15000      75000    7500.0\n",
            "1      102            Gyser         4  35000     140000   14000.0\n",
            "2      103         Purifier         5  45000     225000   22500.0\n",
            "3      104  Air Conditioner         3  60000     180000   18000.0\n",
            "4      105  Washing Machine         8  55000     440000   44000.0\n"
          ]
        }
      ]
    }
  ]
}
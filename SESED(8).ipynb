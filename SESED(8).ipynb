{
  "nbformat": 4,
  "nbformat_minor": 0,
  "metadata": {
    "colab": {
      "provenance": [],
      "authorship_tag": "ABX9TyPAph5FThKoDonlxLkh6I6D",
      "include_colab_link": true
    },
    "kernelspec": {
      "name": "python3",
      "display_name": "Python 3"
    },
    "language_info": {
      "name": "python"
    }
  },
  "cells": [
    {
      "cell_type": "markdown",
      "metadata": {
        "id": "view-in-github",
        "colab_type": "text"
      },
      "source": [
        "<a href=\"https://colab.research.google.com/github/VARSHITHA-DARMINI/1927_B30_PDS/blob/main/SESED(8).ipynb\" target=\"_parent\"><img src=\"https://colab.research.google.com/assets/colab-badge.svg\" alt=\"Open In Colab\"/></a>"
      ]
    },
    {
      "cell_type": "code",
      "source": [
        "# ==============================\n",
        "# GPA Calculator with Transcript\n",
        "# ==============================\n",
        "\n",
        "class Course:\n",
        "    def __init__(self, name, credits):\n",
        "        self.name = name\n",
        "        self.credits = credits\n",
        "\n",
        "\n",
        "class Grade:\n",
        "    grade_points = {\n",
        "        \"A\": 4.0,\n",
        "        \"B\": 3.0,\n",
        "        \"C\": 2.0,\n",
        "        \"D\": 1.0,\n",
        "        \"F\": 0.0\n",
        "    }\n",
        "\n",
        "    def __init__(self, grade_symbol):\n",
        "        if grade_symbol not in Grade.grade_points:\n",
        "            raise ValueError(f\"Invalid grade: {grade_symbol}\")\n",
        "        self.symbol = grade_symbol\n",
        "        self.points = Grade.grade_points[grade_symbol]\n",
        "\n",
        "\n",
        "class Student:\n",
        "    def __init__(self, student_id, name):\n",
        "        self.student_id = student_id\n",
        "        self.name = name\n",
        "        self.courses = []  # list of (Course, Grade)\n",
        "\n",
        "    def add_course(self, course, grade_symbol):\n",
        "        grade = Grade(grade_symbol)\n",
        "        self.courses.append((course, grade))\n",
        "\n",
        "    def calculate_gpa(self):\n",
        "        if not self.courses:\n",
        "            return 0.0\n",
        "        total_points, total_credits = 0, 0\n",
        "        for course, grade in self.courses:\n",
        "            total_points += grade.points * course.credits\n",
        "            total_credits += course.credits\n",
        "        return round(total_points / total_credits, 2)\n",
        "\n",
        "    def generate_transcript(self):\n",
        "        for course, grade in self.courses:\n",
        "            yield course.name, grade.symbol, course.credits\n",
        "\n",
        "\n",
        "# ==============================\n",
        "# Unit Tests (Corrected)\n",
        "# ==============================\n",
        "import unittest\n",
        "\n",
        "class TestGPA_Calculation(unittest.TestCase):\n",
        "    def setUp(self):\n",
        "        self.student = Student(1010, \"Rohit Sharma\")\n",
        "        self.student.add_course(Course(\"Data Science\", 3.0), \"B\")     # 9\n",
        "        self.student.add_course(Course(\"Machine Learning\", 4.0), \"A\") # 16\n",
        "        self.student.add_course(Course(\"Cyber Security\", 3.0), \"C\")   # 6\n",
        "        # Total points = 31, Total credits = 10 → GPA = 3.1\n",
        "\n",
        "    def test_gpa_calculation(self):\n",
        "        # ✅ Correct expected GPA\n",
        "        self.assertEqual(self.student.calculate_gpa(), 3.1)\n",
        "\n",
        "\n",
        "# ==============================\n",
        "# Run Example + Clean Test Output\n",
        "# ==============================\n",
        "if __name__ == \"__main__\":\n",
        "    student_1 = Student(1010, \"Rohit Sharma\")\n",
        "    student_1.add_course(Course(\"Data Science\", 3.0), \"B\")\n",
        "    student_1.add_course(Course(\"Machine Learning\", 4.0), \"A\")\n",
        "    student_1.add_course(Course(\"Cyber Security\", 3.0), \"C\")\n",
        "\n",
        "    gpa = student_1.calculate_gpa()\n",
        "\n",
        "    print(\"\\n--- Example System Usage ---\")\n",
        "    print(f\"Student: {student_1.name} (ID: {student_1.student_id})\")\n",
        "    print(\"-\" * 30)\n",
        "    print(f\"Calculated GPA: {gpa}\")\n",
        "    print(\"Transcript:\")\n",
        "    for name, grade, credits in student_1.generate_transcript():\n",
        "        print(f\"- {name} ({credits:.1f} cr): {grade}\")\n",
        "\n",
        "    print(\"\\nRunning Unit Tests...\\n\")\n",
        "\n",
        "    # Run only the intended test class\n",
        "    suite = unittest.TestLoader().loadTestsFromTestCase(TestGPA_Calculation)\n",
        "    unittest.TextTestRunner(verbosity=1).run(suite)\n"
      ],
      "metadata": {
        "colab": {
          "base_uri": "https://localhost:8080/"
        },
        "id": "wX00MzKeVJGw",
        "outputId": "bda5cf23-6719-4795-ce0c-0b11035e8d78"
      },
      "execution_count": 6,
      "outputs": [
        {
          "output_type": "stream",
          "name": "stderr",
          "text": [
            ".\n",
            "----------------------------------------------------------------------\n",
            "Ran 1 test in 0.001s\n",
            "\n",
            "OK\n"
          ]
        },
        {
          "output_type": "stream",
          "name": "stdout",
          "text": [
            "\n",
            "--- Example System Usage ---\n",
            "Student: Rohit Sharma (ID: 1010)\n",
            "------------------------------\n",
            "Calculated GPA: 3.1\n",
            "Transcript:\n",
            "- Data Science (3.0 cr): B\n",
            "- Machine Learning (4.0 cr): A\n",
            "- Cyber Security (3.0 cr): C\n",
            "\n",
            "Running Unit Tests...\n",
            "\n"
          ]
        }
      ]
    }
  ]
}